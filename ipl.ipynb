{
  "nbformat": 4,
  "nbformat_minor": 0,
  "metadata": {
    "colab": {
      "name": "Untitled4.ipynb",
      "version": "0.3.2",
      "provenance": [],
      "collapsed_sections": [],
      "include_colab_link": true
    },
    "kernelspec": {
      "name": "python3",
      "display_name": "Python 3"
    }
  },
  "cells": [
    {
      "cell_type": "markdown",
      "metadata": {
        "id": "view-in-github",
        "colab_type": "text"
      },
      "source": [
        "<a href=\"https://colab.research.google.com/github/kaushalbhatia05/datascience/blob/master/ipl.ipynb\" target=\"_parent\"><img src=\"https://colab.research.google.com/assets/colab-badge.svg\" alt=\"Open In Colab\"/></a>"
      ]
    },
    {
      "cell_type": "code",
      "metadata": {
        "id": "fp6yRaQxtB1W",
        "colab_type": "code",
        "colab": {}
      },
      "source": [
        "import numpy as np\n",
        "import pandas as pd"
      ],
      "execution_count": 0,
      "outputs": []
    },
    {
      "cell_type": "code",
      "metadata": {
        "id": "dty66DXBtNMM",
        "colab_type": "code",
        "colab": {}
      },
      "source": [
        "ipl18 = pd.DataFrame({'Team': ['SRH', 'CSK', 'KKR', 'RR', 'MI', 'RCB', 'KXIP', 'DD'],\n",
        "                         'Matches': [14, 14, 14, 14, 14, 14, 14, 14],\n",
        "                         'Won': [9, 9, 8, 7, 6, 6, 6, 5],\n",
        "                         'Lost': [5, 5, 6, 7, 8, 8, 8, 9],\n",
        "                         'Tied': [0, 0, 0, 0, 0, 0, 0, 0],\n",
        "                         'N/R': [0, 0, 0, 0, 0, 0, 0, 0],\n",
        "                         'Points': [18, 18, 16, 14, 12, 12, 12, 10],\n",
        "                         'NRR': [0.284, 0.253, -0.070, -0.250, 0.317, 0.129, -0.502, -0.222],\n",
        "                         'For': [2230, 2488, 2363, 2130, 2380, 2322, 2210, 2297],\n",
        "                         'Against': [2193, 2433, 2425, 2141, 2282, 2383, 2259, 2304]},\n",
        "                         index = range(1,9)\n",
        "                    )"
      ],
      "execution_count": 0,
      "outputs": []
    },
    {
      "cell_type": "code",
      "metadata": {
        "id": "t6-OQZPsuZhp",
        "colab_type": "code",
        "colab": {
          "base_uri": "https://localhost:8080/",
          "height": 195
        },
        "outputId": "caf32807-c108-4990-8789-aacb699edb0b"
      },
      "source": [
        "ipl18.head()"
      ],
      "execution_count": 7,
      "outputs": [
        {
          "output_type": "execute_result",
          "data": {
            "text/html": [
              "<div>\n",
              "<style scoped>\n",
              "    .dataframe tbody tr th:only-of-type {\n",
              "        vertical-align: middle;\n",
              "    }\n",
              "\n",
              "    .dataframe tbody tr th {\n",
              "        vertical-align: top;\n",
              "    }\n",
              "\n",
              "    .dataframe thead th {\n",
              "        text-align: right;\n",
              "    }\n",
              "</style>\n",
              "<table border=\"1\" class=\"dataframe\">\n",
              "  <thead>\n",
              "    <tr style=\"text-align: right;\">\n",
              "      <th></th>\n",
              "      <th>Team</th>\n",
              "      <th>Matches</th>\n",
              "      <th>Won</th>\n",
              "      <th>Lost</th>\n",
              "      <th>Tied</th>\n",
              "      <th>N/R</th>\n",
              "      <th>Points</th>\n",
              "      <th>NRR</th>\n",
              "      <th>For</th>\n",
              "      <th>Against</th>\n",
              "    </tr>\n",
              "  </thead>\n",
              "  <tbody>\n",
              "    <tr>\n",
              "      <th>1</th>\n",
              "      <td>SRH</td>\n",
              "      <td>14</td>\n",
              "      <td>9</td>\n",
              "      <td>5</td>\n",
              "      <td>0</td>\n",
              "      <td>0</td>\n",
              "      <td>18</td>\n",
              "      <td>0.284</td>\n",
              "      <td>2230</td>\n",
              "      <td>2193</td>\n",
              "    </tr>\n",
              "    <tr>\n",
              "      <th>2</th>\n",
              "      <td>CSK</td>\n",
              "      <td>14</td>\n",
              "      <td>9</td>\n",
              "      <td>5</td>\n",
              "      <td>0</td>\n",
              "      <td>0</td>\n",
              "      <td>18</td>\n",
              "      <td>0.253</td>\n",
              "      <td>2488</td>\n",
              "      <td>2433</td>\n",
              "    </tr>\n",
              "    <tr>\n",
              "      <th>3</th>\n",
              "      <td>KKR</td>\n",
              "      <td>14</td>\n",
              "      <td>8</td>\n",
              "      <td>6</td>\n",
              "      <td>0</td>\n",
              "      <td>0</td>\n",
              "      <td>16</td>\n",
              "      <td>-0.070</td>\n",
              "      <td>2363</td>\n",
              "      <td>2425</td>\n",
              "    </tr>\n",
              "    <tr>\n",
              "      <th>4</th>\n",
              "      <td>RR</td>\n",
              "      <td>14</td>\n",
              "      <td>7</td>\n",
              "      <td>7</td>\n",
              "      <td>0</td>\n",
              "      <td>0</td>\n",
              "      <td>14</td>\n",
              "      <td>-0.250</td>\n",
              "      <td>2130</td>\n",
              "      <td>2141</td>\n",
              "    </tr>\n",
              "    <tr>\n",
              "      <th>5</th>\n",
              "      <td>MI</td>\n",
              "      <td>14</td>\n",
              "      <td>6</td>\n",
              "      <td>8</td>\n",
              "      <td>0</td>\n",
              "      <td>0</td>\n",
              "      <td>12</td>\n",
              "      <td>0.317</td>\n",
              "      <td>2380</td>\n",
              "      <td>2282</td>\n",
              "    </tr>\n",
              "  </tbody>\n",
              "</table>\n",
              "</div>"
            ],
            "text/plain": [
              "  Team  Matches  Won  Lost  Tied  N/R  Points    NRR   For  Against\n",
              "1  SRH       14    9     5     0    0      18  0.284  2230     2193\n",
              "2  CSK       14    9     5     0    0      18  0.253  2488     2433\n",
              "3  KKR       14    8     6     0    0      16 -0.070  2363     2425\n",
              "4   RR       14    7     7     0    0      14 -0.250  2130     2141\n",
              "5   MI       14    6     8     0    0      12  0.317  2380     2282"
            ]
          },
          "metadata": {
            "tags": []
          },
          "execution_count": 7
        }
      ]
    },
    {
      "cell_type": "code",
      "metadata": {
        "id": "cxisW9zZutmy",
        "colab_type": "code",
        "colab": {
          "base_uri": "https://localhost:8080/",
          "height": 136
        },
        "outputId": "e0cba9e6-2452-4d07-9005-53564cde305b"
      },
      "source": [
        "ipl18.loc[(ipl18['NRR']>0) & (ipl18['For']>ipl18['Against'])]"
      ],
      "execution_count": 9,
      "outputs": [
        {
          "output_type": "execute_result",
          "data": {
            "text/html": [
              "<div>\n",
              "<style scoped>\n",
              "    .dataframe tbody tr th:only-of-type {\n",
              "        vertical-align: middle;\n",
              "    }\n",
              "\n",
              "    .dataframe tbody tr th {\n",
              "        vertical-align: top;\n",
              "    }\n",
              "\n",
              "    .dataframe thead th {\n",
              "        text-align: right;\n",
              "    }\n",
              "</style>\n",
              "<table border=\"1\" class=\"dataframe\">\n",
              "  <thead>\n",
              "    <tr style=\"text-align: right;\">\n",
              "      <th></th>\n",
              "      <th>Team</th>\n",
              "      <th>Matches</th>\n",
              "      <th>Won</th>\n",
              "      <th>Lost</th>\n",
              "      <th>Tied</th>\n",
              "      <th>N/R</th>\n",
              "      <th>Points</th>\n",
              "      <th>NRR</th>\n",
              "      <th>For</th>\n",
              "      <th>Against</th>\n",
              "    </tr>\n",
              "  </thead>\n",
              "  <tbody>\n",
              "    <tr>\n",
              "      <th>1</th>\n",
              "      <td>SRH</td>\n",
              "      <td>14</td>\n",
              "      <td>9</td>\n",
              "      <td>5</td>\n",
              "      <td>0</td>\n",
              "      <td>0</td>\n",
              "      <td>18</td>\n",
              "      <td>0.284</td>\n",
              "      <td>2230</td>\n",
              "      <td>2193</td>\n",
              "    </tr>\n",
              "    <tr>\n",
              "      <th>2</th>\n",
              "      <td>CSK</td>\n",
              "      <td>14</td>\n",
              "      <td>9</td>\n",
              "      <td>5</td>\n",
              "      <td>0</td>\n",
              "      <td>0</td>\n",
              "      <td>18</td>\n",
              "      <td>0.253</td>\n",
              "      <td>2488</td>\n",
              "      <td>2433</td>\n",
              "    </tr>\n",
              "    <tr>\n",
              "      <th>5</th>\n",
              "      <td>MI</td>\n",
              "      <td>14</td>\n",
              "      <td>6</td>\n",
              "      <td>8</td>\n",
              "      <td>0</td>\n",
              "      <td>0</td>\n",
              "      <td>12</td>\n",
              "      <td>0.317</td>\n",
              "      <td>2380</td>\n",
              "      <td>2282</td>\n",
              "    </tr>\n",
              "  </tbody>\n",
              "</table>\n",
              "</div>"
            ],
            "text/plain": [
              "  Team  Matches  Won  Lost  Tied  N/R  Points    NRR   For  Against\n",
              "1  SRH       14    9     5     0    0      18  0.284  2230     2193\n",
              "2  CSK       14    9     5     0    0      18  0.253  2488     2433\n",
              "5   MI       14    6     8     0    0      12  0.317  2380     2282"
            ]
          },
          "metadata": {
            "tags": []
          },
          "execution_count": 9
        }
      ]
    },
    {
      "cell_type": "code",
      "metadata": {
        "id": "Bb2GfJ0HuZuQ",
        "colab_type": "code",
        "colab": {}
      },
      "source": [
        "ipl17 = pd.DataFrame({'Team': ['MI', 'RPS', 'SRH', 'KKR', 'KXIP', 'DD', 'GL', 'RCB'],\n",
        "                         'Matches': [14, 14, 14, 14, 14, 14, 14, 14],\n",
        "                         'Won': [10, 9, 8, 8, 7, 6, 4, 3],\n",
        "                         'Lost': [4, 5, 5, 6, 7, 8, 10, 10],\n",
        "                         'Tied': [0, 0, 0, 0, 0, 0, 0, 0],\n",
        "                         'N/R': [0, 0, 1, 0, 0, 0, 0, 1],\n",
        "                         'Points': [20, 18, 17, 16, 14, 12, 8, 7],\n",
        "                         'NRR': [0.784, 0.176, 0.469, 0.641, 0.123, -0.512, -0.412, -1.299],\n",
        "                         'For': [2407, 2180, 2221, 2329, 2207, 2219, 2406, 1845],\n",
        "                         'Against': [2242, 2165, 2118, 2300, 2229, 2255, 2472, 2033]},\n",
        "                         index = range(1,9)\n",
        "                    )"
      ],
      "execution_count": 0,
      "outputs": []
    },
    {
      "cell_type": "code",
      "metadata": {
        "id": "GjiwAEf5uhwG",
        "colab_type": "code",
        "colab": {
          "base_uri": "https://localhost:8080/",
          "height": 195
        },
        "outputId": "ebccab52-e351-4ec8-a167-84ef130f7084"
      },
      "source": [
        "ipl17.head()"
      ],
      "execution_count": 8,
      "outputs": [
        {
          "output_type": "execute_result",
          "data": {
            "text/html": [
              "<div>\n",
              "<style scoped>\n",
              "    .dataframe tbody tr th:only-of-type {\n",
              "        vertical-align: middle;\n",
              "    }\n",
              "\n",
              "    .dataframe tbody tr th {\n",
              "        vertical-align: top;\n",
              "    }\n",
              "\n",
              "    .dataframe thead th {\n",
              "        text-align: right;\n",
              "    }\n",
              "</style>\n",
              "<table border=\"1\" class=\"dataframe\">\n",
              "  <thead>\n",
              "    <tr style=\"text-align: right;\">\n",
              "      <th></th>\n",
              "      <th>Team</th>\n",
              "      <th>Matches</th>\n",
              "      <th>Won</th>\n",
              "      <th>Lost</th>\n",
              "      <th>Tied</th>\n",
              "      <th>N/R</th>\n",
              "      <th>Points</th>\n",
              "      <th>NRR</th>\n",
              "      <th>For</th>\n",
              "      <th>Against</th>\n",
              "    </tr>\n",
              "  </thead>\n",
              "  <tbody>\n",
              "    <tr>\n",
              "      <th>1</th>\n",
              "      <td>MI</td>\n",
              "      <td>14</td>\n",
              "      <td>10</td>\n",
              "      <td>4</td>\n",
              "      <td>0</td>\n",
              "      <td>0</td>\n",
              "      <td>20</td>\n",
              "      <td>0.784</td>\n",
              "      <td>2407</td>\n",
              "      <td>2242</td>\n",
              "    </tr>\n",
              "    <tr>\n",
              "      <th>2</th>\n",
              "      <td>RPS</td>\n",
              "      <td>14</td>\n",
              "      <td>9</td>\n",
              "      <td>5</td>\n",
              "      <td>0</td>\n",
              "      <td>0</td>\n",
              "      <td>18</td>\n",
              "      <td>0.176</td>\n",
              "      <td>2180</td>\n",
              "      <td>2165</td>\n",
              "    </tr>\n",
              "    <tr>\n",
              "      <th>3</th>\n",
              "      <td>SRH</td>\n",
              "      <td>14</td>\n",
              "      <td>8</td>\n",
              "      <td>5</td>\n",
              "      <td>0</td>\n",
              "      <td>1</td>\n",
              "      <td>17</td>\n",
              "      <td>0.469</td>\n",
              "      <td>2221</td>\n",
              "      <td>2118</td>\n",
              "    </tr>\n",
              "    <tr>\n",
              "      <th>4</th>\n",
              "      <td>KKR</td>\n",
              "      <td>14</td>\n",
              "      <td>8</td>\n",
              "      <td>6</td>\n",
              "      <td>0</td>\n",
              "      <td>0</td>\n",
              "      <td>16</td>\n",
              "      <td>0.641</td>\n",
              "      <td>2329</td>\n",
              "      <td>2300</td>\n",
              "    </tr>\n",
              "    <tr>\n",
              "      <th>5</th>\n",
              "      <td>KXIP</td>\n",
              "      <td>14</td>\n",
              "      <td>7</td>\n",
              "      <td>7</td>\n",
              "      <td>0</td>\n",
              "      <td>0</td>\n",
              "      <td>14</td>\n",
              "      <td>0.123</td>\n",
              "      <td>2207</td>\n",
              "      <td>2229</td>\n",
              "    </tr>\n",
              "  </tbody>\n",
              "</table>\n",
              "</div>"
            ],
            "text/plain": [
              "   Team  Matches  Won  Lost  Tied  N/R  Points    NRR   For  Against\n",
              "1    MI       14   10     4     0    0      20  0.784  2407     2242\n",
              "2   RPS       14    9     5     0    0      18  0.176  2180     2165\n",
              "3   SRH       14    8     5     0    1      17  0.469  2221     2118\n",
              "4   KKR       14    8     6     0    0      16  0.641  2329     2300\n",
              "5  KXIP       14    7     7     0    0      14  0.123  2207     2229"
            ]
          },
          "metadata": {
            "tags": []
          },
          "execution_count": 8
        }
      ]
    },
    {
      "cell_type": "code",
      "metadata": {
        "id": "EHzz2C6EvZYd",
        "colab_type": "code",
        "colab": {}
      },
      "source": [
        "ipl181=ipl18.groupby(['Team'])['Points'].sum()"
      ],
      "execution_count": 0,
      "outputs": []
    },
    {
      "cell_type": "code",
      "metadata": {
        "id": "ERLcPUKZwJ69",
        "colab_type": "code",
        "colab": {}
      },
      "source": [
        "ipl171=ipl17.groupby(['Team'])['Points'].sum()"
      ],
      "execution_count": 0,
      "outputs": []
    },
    {
      "cell_type": "code",
      "metadata": {
        "id": "JPEczexxwOaV",
        "colab_type": "code",
        "colab": {
          "base_uri": "https://localhost:8080/",
          "height": 185
        },
        "outputId": "096f5b76-5ef0-4114-dd65-7c9e769629a8"
      },
      "source": [
        "print(ipl171)"
      ],
      "execution_count": 16,
      "outputs": [
        {
          "output_type": "stream",
          "text": [
            "Team\n",
            "DD      12\n",
            "GL       8\n",
            "KKR     16\n",
            "KXIP    14\n",
            "MI      20\n",
            "RCB      7\n",
            "RPS     18\n",
            "SRH     17\n",
            "Name: Points, dtype: int64\n"
          ],
          "name": "stdout"
        }
      ]
    },
    {
      "cell_type": "code",
      "metadata": {
        "id": "9jNhM8xFv-2V",
        "colab_type": "code",
        "colab": {
          "base_uri": "https://localhost:8080/",
          "height": 185
        },
        "outputId": "79d57fa8-e459-44c2-ff02-875857e2c717"
      },
      "source": [
        "print(ipl181)"
      ],
      "execution_count": 14,
      "outputs": [
        {
          "output_type": "stream",
          "text": [
            "Team\n",
            "CSK     18\n",
            "DD      10\n",
            "KKR     16\n",
            "KXIP    12\n",
            "MI      12\n",
            "RCB     12\n",
            "RR      14\n",
            "SRH     18\n",
            "Name: Points, dtype: int64\n"
          ],
          "name": "stdout"
        }
      ]
    },
    {
      "cell_type": "code",
      "metadata": {
        "id": "v48e13ZZwTYi",
        "colab_type": "code",
        "colab": {}
      },
      "source": [
        "x=ipl181+ipl171\n"
      ],
      "execution_count": 0,
      "outputs": []
    },
    {
      "cell_type": "code",
      "metadata": {
        "id": "r2fvcN1TwzCu",
        "colab_type": "code",
        "colab": {
          "base_uri": "https://localhost:8080/",
          "height": 218
        },
        "outputId": "0df899e2-cae3-472f-866f-e5ed606ee33c"
      },
      "source": [
        "print(x)"
      ],
      "execution_count": 19,
      "outputs": [
        {
          "output_type": "stream",
          "text": [
            "Team\n",
            "CSK      NaN\n",
            "DD      22.0\n",
            "GL       NaN\n",
            "KKR     32.0\n",
            "KXIP    26.0\n",
            "MI      32.0\n",
            "RCB     19.0\n",
            "RPS      NaN\n",
            "RR       NaN\n",
            "SRH     35.0\n",
            "Name: Points, dtype: float64\n"
          ],
          "name": "stdout"
        }
      ]
    }
  ]
}